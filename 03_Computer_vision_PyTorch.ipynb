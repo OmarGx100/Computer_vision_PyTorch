{
 "cells": [
  {
   "cell_type": "markdown",
   "metadata": {},
   "source": [
    "## Steps for building a Machine learning model\n",
    "\n",
    "1. Get data ready turn it from any type it's into tensors `torchvision.transforms` `torch.utils.data.Dataset` `torch.utils.data.Dataloader`\n",
    "2. Build or pick a pretrained model(that suits your program) `torch.nn`, `torch.nn.Module`, `torchvision.models`,\"Pick an Optimzer and Loss function\", \"Building a training loop and testing loop\"\n",
    "3. Fit the model to the training data and make a prediction \n",
    "4. Evaluate the model with suitable evaluation metrics `torch.metrics`\n",
    "5. Improve your model throw exprmentation \"Define your model's problem then find a way to solve it\" `torch.utils.tesnorboard`\n",
    "6. save and load your model to deploy it in real application `torch.save`, `torch.load`"
   ]
  },
  {
   "cell_type": "markdown",
   "metadata": {},
   "source": [
    "## PyTorch Computer vision\n",
    "* `torchvision` -base domain library for PyTorch computer vision.\n",
    "* `torchvision.datasets` - get datasetes and data loading function for computer vision.\n",
    "* `torchvision.models` -get pretrained models that you can leverage for your own problems.\n",
    "* `torchvision.tranforms` - functions for manipulating your vision data(images) to be suitable for use with an ML model.\n",
    "* `torch.utils.data.Dataset` - Base dataset class for PyTorch.\n",
    "* `torch.utils.data.Dataloader` -Creates a Python iterable over a dataset"
   ]
  },
  {
   "cell_type": "code",
   "execution_count": 5,
   "metadata": {},
   "outputs": [],
   "source": [
    "#import important dependencies\n",
    "\n",
    "# import torch\n",
    "import torch\n",
    "from torch import nn\n",
    "from torch.utils.data import DataLoader\n",
    "# import torchvision\n",
    "import torchvision\n",
    "from torchvision import datasets\n",
    "from torchvision import transforms\n",
    "from torchvision.transforms import ToTensor\n",
    "\n",
    "#import matplotlib\n",
    "import matplotlib.pyplot as plt\n"
   ]
  },
  {
   "cell_type": "code",
   "execution_count": 6,
   "metadata": {},
   "outputs": [
    {
     "name": "stdout",
     "output_type": "stream",
     "text": [
      "2.1.1+cu121\n",
      "0.16.1+cu121\n"
     ]
    }
   ],
   "source": [
    "# Checking for versions \n",
    "print(torch.__version__)\n",
    "print(torchvision.__version__)"
   ]
  },
  {
   "cell_type": "code",
   "execution_count": 7,
   "metadata": {},
   "outputs": [],
   "source": [
    "# 1.getting a dataset \n",
    "train_data = datasets.FashionMNIST(root=\"./FashonMNIST/train_data\", # Where to download the data\n",
    "                                    train = True, # getting training data if True else getting the testing data only\n",
    "                                    download= False, # downloading the data\n",
    "                                    transform= torchvision.transforms.ToTensor(),#transforming the datainto tensors True/False,  # How do we want to transform the data ?\n",
    "                                    target_transform=None, # How do we want to tranform the labels/targets ?\n",
    "                                    )\n",
    "test_data = datasets.FashionMNIST(root = \"./FashonMNIST/test_data\", # Where to download the data\n",
    "                                    train = False, # getting training data if True else getting the testing data only\n",
    "                                    download= False, # downloading the data\n",
    "                                    transform= torchvision.transforms.ToTensor(),#transforming the datainto tensors True/False,  # How do we want to transform the data ?\n",
    "                                    target_transform=None, # How do we want to tranform the labels/targets ?\n",
    "                                    )"
   ]
  },
  {
   "cell_type": "code",
   "execution_count": 8,
   "metadata": {},
   "outputs": [
    {
     "data": {
      "text/plain": [
       "(60000, 10000)"
      ]
     },
     "execution_count": 8,
     "metadata": {},
     "output_type": "execute_result"
    }
   ],
   "source": [
    "len(train_data), len(test_data)"
   ]
  },
  {
   "cell_type": "code",
   "execution_count": 9,
   "metadata": {},
   "outputs": [
    {
     "data": {
      "text/plain": [
       "(tensor([[[0.0000, 0.0000, 0.0000, 0.0000, 0.0000, 0.0000, 0.0000, 0.0000,\n",
       "           0.0000, 0.0000, 0.0000, 0.0000, 0.0000, 0.0000, 0.0000, 0.0000,\n",
       "           0.0000, 0.0000, 0.0000, 0.0000, 0.0000, 0.0000, 0.0000, 0.0000,\n",
       "           0.0000, 0.0000, 0.0000, 0.0000],\n",
       "          [0.0000, 0.0000, 0.0000, 0.0000, 0.0000, 0.0000, 0.0000, 0.0000,\n",
       "           0.0000, 0.0000, 0.0000, 0.0000, 0.0000, 0.0000, 0.0000, 0.0000,\n",
       "           0.0000, 0.0000, 0.0000, 0.0000, 0.0000, 0.0000, 0.0000, 0.0000,\n",
       "           0.0000, 0.0000, 0.0000, 0.0000],\n",
       "          [0.0000, 0.0000, 0.0000, 0.0000, 0.0000, 0.0000, 0.0000, 0.0000,\n",
       "           0.0000, 0.0000, 0.0000, 0.0000, 0.0000, 0.0000, 0.0000, 0.0000,\n",
       "           0.0000, 0.0000, 0.0000, 0.0000, 0.0000, 0.0000, 0.0000, 0.0000,\n",
       "           0.0000, 0.0000, 0.0000, 0.0000],\n",
       "          [0.0000, 0.0000, 0.0000, 0.0000, 0.0000, 0.0000, 0.0000, 0.0000,\n",
       "           0.0000, 0.0000, 0.0000, 0.0000, 0.0039, 0.0000, 0.0000, 0.0510,\n",
       "           0.2863, 0.0000, 0.0000, 0.0039, 0.0157, 0.0000, 0.0000, 0.0000,\n",
       "           0.0000, 0.0039, 0.0039, 0.0000],\n",
       "          [0.0000, 0.0000, 0.0000, 0.0000, 0.0000, 0.0000, 0.0000, 0.0000,\n",
       "           0.0000, 0.0000, 0.0000, 0.0000, 0.0118, 0.0000, 0.1412, 0.5333,\n",
       "           0.4980, 0.2431, 0.2118, 0.0000, 0.0000, 0.0000, 0.0039, 0.0118,\n",
       "           0.0157, 0.0000, 0.0000, 0.0118],\n",
       "          [0.0000, 0.0000, 0.0000, 0.0000, 0.0000, 0.0000, 0.0000, 0.0000,\n",
       "           0.0000, 0.0000, 0.0000, 0.0000, 0.0235, 0.0000, 0.4000, 0.8000,\n",
       "           0.6902, 0.5255, 0.5647, 0.4824, 0.0902, 0.0000, 0.0000, 0.0000,\n",
       "           0.0000, 0.0471, 0.0392, 0.0000],\n",
       "          [0.0000, 0.0000, 0.0000, 0.0000, 0.0000, 0.0000, 0.0000, 0.0000,\n",
       "           0.0000, 0.0000, 0.0000, 0.0000, 0.0000, 0.0000, 0.6078, 0.9255,\n",
       "           0.8118, 0.6980, 0.4196, 0.6118, 0.6314, 0.4275, 0.2510, 0.0902,\n",
       "           0.3020, 0.5098, 0.2824, 0.0588],\n",
       "          [0.0000, 0.0000, 0.0000, 0.0000, 0.0000, 0.0000, 0.0000, 0.0000,\n",
       "           0.0000, 0.0000, 0.0000, 0.0039, 0.0000, 0.2706, 0.8118, 0.8745,\n",
       "           0.8549, 0.8471, 0.8471, 0.6392, 0.4980, 0.4745, 0.4784, 0.5725,\n",
       "           0.5529, 0.3451, 0.6745, 0.2588],\n",
       "          [0.0000, 0.0000, 0.0000, 0.0000, 0.0000, 0.0000, 0.0000, 0.0000,\n",
       "           0.0000, 0.0039, 0.0039, 0.0039, 0.0000, 0.7843, 0.9098, 0.9098,\n",
       "           0.9137, 0.8980, 0.8745, 0.8745, 0.8431, 0.8353, 0.6431, 0.4980,\n",
       "           0.4824, 0.7686, 0.8980, 0.0000],\n",
       "          [0.0000, 0.0000, 0.0000, 0.0000, 0.0000, 0.0000, 0.0000, 0.0000,\n",
       "           0.0000, 0.0000, 0.0000, 0.0000, 0.0000, 0.7176, 0.8824, 0.8471,\n",
       "           0.8745, 0.8941, 0.9216, 0.8902, 0.8784, 0.8706, 0.8784, 0.8667,\n",
       "           0.8745, 0.9608, 0.6784, 0.0000],\n",
       "          [0.0000, 0.0000, 0.0000, 0.0000, 0.0000, 0.0000, 0.0000, 0.0000,\n",
       "           0.0000, 0.0000, 0.0000, 0.0000, 0.0000, 0.7569, 0.8941, 0.8549,\n",
       "           0.8353, 0.7765, 0.7059, 0.8314, 0.8235, 0.8275, 0.8353, 0.8745,\n",
       "           0.8627, 0.9529, 0.7922, 0.0000],\n",
       "          [0.0000, 0.0000, 0.0000, 0.0000, 0.0000, 0.0000, 0.0000, 0.0000,\n",
       "           0.0000, 0.0039, 0.0118, 0.0000, 0.0471, 0.8588, 0.8627, 0.8314,\n",
       "           0.8549, 0.7529, 0.6627, 0.8902, 0.8157, 0.8549, 0.8784, 0.8314,\n",
       "           0.8863, 0.7725, 0.8196, 0.2039],\n",
       "          [0.0000, 0.0000, 0.0000, 0.0000, 0.0000, 0.0000, 0.0000, 0.0000,\n",
       "           0.0000, 0.0000, 0.0235, 0.0000, 0.3882, 0.9569, 0.8706, 0.8627,\n",
       "           0.8549, 0.7961, 0.7765, 0.8667, 0.8431, 0.8353, 0.8706, 0.8627,\n",
       "           0.9608, 0.4667, 0.6549, 0.2196],\n",
       "          [0.0000, 0.0000, 0.0000, 0.0000, 0.0000, 0.0000, 0.0000, 0.0000,\n",
       "           0.0000, 0.0157, 0.0000, 0.0000, 0.2157, 0.9255, 0.8941, 0.9020,\n",
       "           0.8941, 0.9412, 0.9098, 0.8353, 0.8549, 0.8745, 0.9176, 0.8510,\n",
       "           0.8510, 0.8196, 0.3608, 0.0000],\n",
       "          [0.0000, 0.0000, 0.0039, 0.0157, 0.0235, 0.0275, 0.0078, 0.0000,\n",
       "           0.0000, 0.0000, 0.0000, 0.0000, 0.9294, 0.8863, 0.8510, 0.8745,\n",
       "           0.8706, 0.8588, 0.8706, 0.8667, 0.8471, 0.8745, 0.8980, 0.8431,\n",
       "           0.8549, 1.0000, 0.3020, 0.0000],\n",
       "          [0.0000, 0.0118, 0.0000, 0.0000, 0.0000, 0.0000, 0.0000, 0.0000,\n",
       "           0.0000, 0.2431, 0.5686, 0.8000, 0.8941, 0.8118, 0.8353, 0.8667,\n",
       "           0.8549, 0.8157, 0.8275, 0.8549, 0.8784, 0.8745, 0.8588, 0.8431,\n",
       "           0.8784, 0.9569, 0.6235, 0.0000],\n",
       "          [0.0000, 0.0000, 0.0000, 0.0000, 0.0706, 0.1725, 0.3216, 0.4196,\n",
       "           0.7412, 0.8941, 0.8627, 0.8706, 0.8510, 0.8863, 0.7843, 0.8039,\n",
       "           0.8275, 0.9020, 0.8784, 0.9176, 0.6902, 0.7373, 0.9804, 0.9725,\n",
       "           0.9137, 0.9333, 0.8431, 0.0000],\n",
       "          [0.0000, 0.2235, 0.7333, 0.8157, 0.8784, 0.8667, 0.8784, 0.8157,\n",
       "           0.8000, 0.8392, 0.8157, 0.8196, 0.7843, 0.6235, 0.9608, 0.7569,\n",
       "           0.8078, 0.8745, 1.0000, 1.0000, 0.8667, 0.9176, 0.8667, 0.8275,\n",
       "           0.8627, 0.9098, 0.9647, 0.0000],\n",
       "          [0.0118, 0.7922, 0.8941, 0.8784, 0.8667, 0.8275, 0.8275, 0.8392,\n",
       "           0.8039, 0.8039, 0.8039, 0.8627, 0.9412, 0.3137, 0.5882, 1.0000,\n",
       "           0.8980, 0.8667, 0.7373, 0.6039, 0.7490, 0.8235, 0.8000, 0.8196,\n",
       "           0.8706, 0.8941, 0.8824, 0.0000],\n",
       "          [0.3843, 0.9137, 0.7765, 0.8235, 0.8706, 0.8980, 0.8980, 0.9176,\n",
       "           0.9765, 0.8627, 0.7608, 0.8431, 0.8510, 0.9451, 0.2549, 0.2863,\n",
       "           0.4157, 0.4588, 0.6588, 0.8588, 0.8667, 0.8431, 0.8510, 0.8745,\n",
       "           0.8745, 0.8784, 0.8980, 0.1137],\n",
       "          [0.2941, 0.8000, 0.8314, 0.8000, 0.7569, 0.8039, 0.8275, 0.8824,\n",
       "           0.8471, 0.7255, 0.7725, 0.8078, 0.7765, 0.8353, 0.9412, 0.7647,\n",
       "           0.8902, 0.9608, 0.9373, 0.8745, 0.8549, 0.8314, 0.8196, 0.8706,\n",
       "           0.8627, 0.8667, 0.9020, 0.2627],\n",
       "          [0.1882, 0.7961, 0.7176, 0.7608, 0.8353, 0.7725, 0.7255, 0.7451,\n",
       "           0.7608, 0.7529, 0.7922, 0.8392, 0.8588, 0.8667, 0.8627, 0.9255,\n",
       "           0.8824, 0.8471, 0.7804, 0.8078, 0.7294, 0.7098, 0.6941, 0.6745,\n",
       "           0.7098, 0.8039, 0.8078, 0.4510],\n",
       "          [0.0000, 0.4784, 0.8588, 0.7569, 0.7020, 0.6706, 0.7176, 0.7686,\n",
       "           0.8000, 0.8235, 0.8353, 0.8118, 0.8275, 0.8235, 0.7843, 0.7686,\n",
       "           0.7608, 0.7490, 0.7647, 0.7490, 0.7765, 0.7529, 0.6902, 0.6118,\n",
       "           0.6549, 0.6941, 0.8235, 0.3608],\n",
       "          [0.0000, 0.0000, 0.2902, 0.7412, 0.8314, 0.7490, 0.6863, 0.6745,\n",
       "           0.6863, 0.7098, 0.7255, 0.7373, 0.7412, 0.7373, 0.7569, 0.7765,\n",
       "           0.8000, 0.8196, 0.8235, 0.8235, 0.8275, 0.7373, 0.7373, 0.7608,\n",
       "           0.7529, 0.8471, 0.6667, 0.0000],\n",
       "          [0.0078, 0.0000, 0.0000, 0.0000, 0.2588, 0.7843, 0.8706, 0.9294,\n",
       "           0.9373, 0.9490, 0.9647, 0.9529, 0.9569, 0.8667, 0.8627, 0.7569,\n",
       "           0.7490, 0.7020, 0.7137, 0.7137, 0.7098, 0.6902, 0.6510, 0.6588,\n",
       "           0.3882, 0.2275, 0.0000, 0.0000],\n",
       "          [0.0000, 0.0000, 0.0000, 0.0000, 0.0000, 0.0000, 0.0000, 0.1569,\n",
       "           0.2392, 0.1725, 0.2824, 0.1608, 0.1373, 0.0000, 0.0000, 0.0000,\n",
       "           0.0000, 0.0000, 0.0000, 0.0000, 0.0000, 0.0000, 0.0000, 0.0000,\n",
       "           0.0000, 0.0000, 0.0000, 0.0000],\n",
       "          [0.0000, 0.0000, 0.0000, 0.0000, 0.0000, 0.0000, 0.0000, 0.0000,\n",
       "           0.0000, 0.0000, 0.0000, 0.0000, 0.0000, 0.0000, 0.0000, 0.0000,\n",
       "           0.0000, 0.0000, 0.0000, 0.0000, 0.0000, 0.0000, 0.0000, 0.0000,\n",
       "           0.0000, 0.0000, 0.0000, 0.0000],\n",
       "          [0.0000, 0.0000, 0.0000, 0.0000, 0.0000, 0.0000, 0.0000, 0.0000,\n",
       "           0.0000, 0.0000, 0.0000, 0.0000, 0.0000, 0.0000, 0.0000, 0.0000,\n",
       "           0.0000, 0.0000, 0.0000, 0.0000, 0.0000, 0.0000, 0.0000, 0.0000,\n",
       "           0.0000, 0.0000, 0.0000, 0.0000]]]),\n",
       " 9)"
      ]
     },
     "execution_count": 9,
     "metadata": {},
     "output_type": "execute_result"
    }
   ],
   "source": [
    "img, label = train_data[0]\n",
    "\n",
    "img, label"
   ]
  },
  {
   "cell_type": "code",
   "execution_count": 10,
   "metadata": {},
   "outputs": [
    {
     "data": {
      "text/plain": [
       "torch.Size([1, 28, 28])"
      ]
     },
     "execution_count": 10,
     "metadata": {},
     "output_type": "execute_result"
    }
   ],
   "source": [
    "img.shape"
   ]
  },
  {
   "cell_type": "code",
   "execution_count": 11,
   "metadata": {},
   "outputs": [
    {
     "data": {
      "text/plain": [
       "['T-shirt/top',\n",
       " 'Trouser',\n",
       " 'Pullover',\n",
       " 'Dress',\n",
       " 'Coat',\n",
       " 'Sandal',\n",
       " 'Shirt',\n",
       " 'Sneaker',\n",
       " 'Bag',\n",
       " 'Ankle boot']"
      ]
     },
     "execution_count": 11,
     "metadata": {},
     "output_type": "execute_result"
    }
   ],
   "source": [
    "class_names = train_data.classes\n",
    "\n",
    "class_names"
   ]
  },
  {
   "cell_type": "code",
   "execution_count": 12,
   "metadata": {},
   "outputs": [
    {
     "data": {
      "text/plain": [
       "(-0.5, 27.5, 27.5, -0.5)"
      ]
     },
     "execution_count": 12,
     "metadata": {},
     "output_type": "execute_result"
    },
    {
     "data": {
      "image/png": "[encoded data removed]",
      "text/plain": [
       "<Figure size 640x480 with 1 Axes>"
      ]
     },
     "metadata": {},
     "output_type": "display_data"
    }
   ],
   "source": [
    "# plot an image\n",
    "plt.imshow(img.squeeze(), cmap = \"gray\")\n",
    "plt.title(class_names[label])\n",
    "plt.axis(\"off\")"
   ]
  },
  {
   "cell_type": "code",
   "execution_count": 13,
   "metadata": {},
   "outputs": [
    {
     "data": {
      "image/png": "[encoded data removed]",
      "text/plain": [
       "<Figure size 700x700 with 16 Axes>"
      ]
     },
     "metadata": {},
     "output_type": "display_data"
    }
   ],
   "source": [
    "#plotting random samples of our data \n",
    "torch.manual_seed(42)\n",
    "fig = plt.figure(figsize=(7, 7))\n",
    "rows, colms = 4, 4\n",
    "for i in range(1, rows*colms + 1):\n",
    "    random_idx = torch.randint(0, len(train_data), size = [1]).item()\n",
    "    img, label = train_data[random_idx]\n",
    "    fig.add_subplot(rows, colms, i)\n",
    "    plt.imshow(img.squeeze(), cmap = 'gray')\n",
    "    plt.title(class_names[label])\n",
    "    plt.axis('off')"
   ]
  },
  {
   "cell_type": "code",
   "execution_count": 14,
   "metadata": {},
   "outputs": [],
   "source": [
    "from torch.utils.data import DataLoader"
   ]
  },
  {
   "cell_type": "markdown",
   "metadata": {},
   "source": [
    "### 2.prepare our data and turn it into dataloaders\n",
    "\n",
    "- Right now our data is in the form of PyTorch Datasets.\n",
    "- Dataloader turns our dataset into a Python iterable \n",
    "- More specifically we want to turn our data into minibatches "
   ]
  },
  {
   "cell_type": "code",
   "execution_count": 15,
   "metadata": {},
   "outputs": [],
   "source": [
    "torch.manual_seed(42)\n",
    "train_data_loader =  DataLoader(train_data,\n",
    "                                batch_size = 32,\n",
    "                                shuffle = True,\n",
    "                                        )\n",
    "\n",
    "test_data_loader = DataLoader( test_data,\n",
    "                               batch_size = 32,\n",
    "                               shuffle = False\n",
    "                               )"
   ]
  },
  {
   "cell_type": "code",
   "execution_count": 16,
   "metadata": {},
   "outputs": [
    {
     "name": "stdout",
     "output_type": "stream",
     "text": [
      "DataLoaders : (<torch.utils.data.dataloader.DataLoader object at 0x0000013430715A90>, <torch.utils.data.dataloader.DataLoader object at 0x0000013430623310>)\n",
      "Length of train_loader : 1875 and Batches of 32\n",
      "| Length of test_loader 313 and Batches of 32\n"
     ]
    }
   ],
   "source": [
    "print(f\"DataLoaders : {train_data_loader, test_data_loader}\")\n",
    "print(f\"Length of train_loader : {len(train_data_loader)} and Batches of {train_data_loader.batch_size}\")\n",
    "print(f\"| Length of test_loader {len(test_data_loader)} and Batches of {test_data_loader.batch_size}\")"
   ]
  },
  {
   "cell_type": "code",
   "execution_count": 17,
   "metadata": {},
   "outputs": [
    {
     "data": {
      "text/plain": [
       "(torch.Size([32, 1, 28, 28]), torch.Size([32]))"
      ]
     },
     "execution_count": 17,
     "metadata": {},
     "output_type": "execute_result"
    }
   ],
   "source": [
    "#show a sample of the dataloader \"how to interact with the data loader\"\n",
    "#checking what is inside the train data loader\n",
    "train_features_batch, train_label_batch = next(iter(train_data_loader))\n",
    "train_features_batch.shape, train_label_batch.shape"
   ]
  },
  {
   "cell_type": "code",
   "execution_count": 18,
   "metadata": {},
   "outputs": [
    {
     "data": {
      "text/plain": [
       "(-0.5, 27.5, 27.5, -0.5)"
      ]
     },
     "execution_count": 18,
     "metadata": {},
     "output_type": "execute_result"
    },
    {
     "data": {
      "image/png": "[encoded data removed]",
      "text/plain": [
       "<Figure size 200x200 with 1 Axes>"
      ]
     },
     "metadata": {},
     "output_type": "display_data"
    }
   ],
   "source": [
    "torch.manual_seed(42)\n",
    "\n",
    "random_idx = torch.randint(0, len(train_features_batch), size = [1]).item()\n",
    "img, label = train_features_batch[random_idx], train_label_batch[random_idx]\n",
    "\n",
    "plt.figure(figsize = (2,2))\n",
    "plt.imshow(img.squeeze(), cmap = \"gray\")\n",
    "plt.title(class_names[label])\n",
    "plt.axis(\"off\")\n"
   ]
  },
  {
   "cell_type": "markdown",
   "metadata": {},
   "source": [
    "## 3. Make a base line Model\n",
    "\n",
    "this is the base line model that we are going to improve and updata upon it "
   ]
  },
  {
   "cell_type": "code",
   "execution_count": 19,
   "metadata": {},
   "outputs": [],
   "source": [
    "class FashonMNISTModelv1(nn.Module):\n",
    "    def __init__(self, \n",
    "                 input_shape,\n",
    "                 hidden_units,\n",
    "                 output_shape) -> None:\n",
    "        super().__init__()\n",
    "        self.layer_stack = nn.Sequential(\n",
    "            nn.Flatten(),\n",
    "            nn.Linear(in_features=input_shape,\n",
    "                      out_features=hidden_units),\n",
    "            #nn.ReLU(),\n",
    "            nn.Linear(in_features=hidden_units,\n",
    "                      out_features=hidden_units),\n",
    "            #nn.ReLU(),\n",
    "            nn.Linear(in_features= hidden_units,\n",
    "                      out_features= output_shape),\n",
    "            #nn.Softmax()\n",
    "        )\n",
    "    def forward(self, x : torch.tensor) -> torch.tensor:\n",
    "        return self.layer_stack(x)"
   ]
  },
  {
   "cell_type": "code",
   "execution_count": null,
   "metadata": {},
   "outputs": [],
   "source": []
  },
  {
   "cell_type": "code",
   "execution_count": 20,
   "metadata": {},
   "outputs": [
    {
     "data": {
      "text/plain": [
       "FashonMNISTModelv1(\n",
       "  (layer_stack): Sequential(\n",
       "    (0): Flatten(start_dim=1, end_dim=-1)\n",
       "    (1): Linear(in_features=784, out_features=10, bias=True)\n",
       "    (2): Linear(in_features=10, out_features=10, bias=True)\n",
       "    (3): Linear(in_features=10, out_features=10, bias=True)\n",
       "  )\n",
       ")"
      ]
     },
     "execution_count": 20,
     "metadata": {},
     "output_type": "execute_result"
    }
   ],
   "source": [
    "class_0 = FashonMNISTModelv1(\n",
    "    input_shape= 28 * 28,\n",
    "    hidden_units=10,\n",
    "    output_shape = 10\n",
    ").to(\"cpu\")\n",
    "\n",
    "class_0"
   ]
  },
  {
   "cell_type": "code",
   "execution_count": 21,
   "metadata": {},
   "outputs": [],
   "source": [
    "# Downloading helper function from learnpytorch\n",
    "import requests\n",
    "from pathlib import Path\n",
    "\n",
    "path = Path(\"helper_functions.py\")\n"
   ]
  },
  {
   "cell_type": "code",
   "execution_count": 22,
   "metadata": {},
   "outputs": [
    {
     "name": "stdout",
     "output_type": "stream",
     "text": [
      "The file helper_functions.py already exists you can import it directly using import helper_functions\n"
     ]
    }
   ],
   "source": [
    "if path.exists() == True:\n",
    "    print(f\"The file {path.name} already exists you can import it directly using import {path.name.replace('.py', '')}\")\n",
    "else:\n",
    "    print(f\"Downloading the file {path.name}\")\n",
    "    request = requests.get(\"https://raw.githubusercontent.com/mrdbourke/pytorch-deep-learning/main/helper_functions.py\")\n",
    "    with open(path.name, \"wb\") as f :\n",
    "        f.write(request.content)"
   ]
  },
  {
   "cell_type": "code",
   "execution_count": 23,
   "metadata": {},
   "outputs": [],
   "source": [
    "import helper_functions"
   ]
  },
  {
   "cell_type": "code",
   "execution_count": 24,
   "metadata": {},
   "outputs": [],
   "source": [
    "loss_fnc = nn.CrossEntropyLoss()\n",
    "\n",
    "optimzer = torch.optim.SGD(params=class_0.parameters(), lr = 0.01)\n"
   ]
  },
  {
   "cell_type": "code",
   "execution_count": 25,
   "metadata": {},
   "outputs": [
    {
     "data": {
      "text/plain": [
       "tensor([[[[0.0237, 0.1837, 0.2798, 0.2174, 0.0621, 0.8123, 0.9890, 0.9186,\n",
       "           0.8131, 0.7220, 0.3029, 0.0965, 0.2047, 0.7264, 0.6094, 0.5638,\n",
       "           0.1965, 0.2648, 0.2891, 0.4365, 0.4057, 0.5529, 0.3335, 0.4433,\n",
       "           0.1820, 0.7471, 0.0845, 0.5913],\n",
       "          [0.0243, 0.2149, 0.9835, 0.4064, 0.4081, 0.7579, 0.0687, 0.3848,\n",
       "           0.4839, 0.5563, 0.4172, 0.1473, 0.0417, 0.5054, 0.9175, 0.2755,\n",
       "           0.5632, 0.8178, 0.0115, 0.9425, 0.9223, 0.2813, 0.9358, 0.8416,\n",
       "           0.9154, 0.9330, 0.6147, 0.7747],\n",
       "          [0.2323, 0.5840, 0.9795, 0.3277, 0.6178, 0.2445, 0.6848, 0.6628,\n",
       "           0.8775, 0.5028, 0.7387, 0.8031, 0.5805, 0.0283, 0.8545, 0.1798,\n",
       "           0.7316, 0.1259, 0.6456, 0.4064, 0.0522, 0.7283, 0.3837, 0.2919,\n",
       "           0.3446, 0.8400, 0.7938, 0.6362],\n",
       "          [0.7092, 0.7568, 0.7069, 0.9257, 0.8011, 0.2427, 0.4238, 0.7332,\n",
       "           0.8978, 0.0845, 0.2520, 0.2520, 0.9723, 0.9908, 0.2765, 0.3455,\n",
       "           0.5089, 0.5293, 0.3575, 0.1352, 0.2339, 0.4583, 0.5541, 0.5192,\n",
       "           0.0408, 0.9427, 0.2088, 0.3776],\n",
       "          [0.9638, 0.5033, 0.1003, 0.7880, 0.3119, 0.9847, 0.3549, 0.1263,\n",
       "           0.1280, 0.5027, 0.4195, 0.8893, 0.5299, 0.1994, 0.5560, 0.1302,\n",
       "           0.5746, 0.6321, 0.0286, 0.1580, 0.2489, 0.3252, 0.4092, 0.7097,\n",
       "           0.1053, 0.7586, 0.1534, 0.9391],\n",
       "          [0.2146, 0.1175, 0.8583, 0.9067, 0.3306, 0.9384, 0.5563, 0.6816,\n",
       "           0.4707, 0.3634, 0.3191, 0.0713, 0.8649, 0.7649, 0.9543, 0.0085,\n",
       "           0.9940, 0.8335, 0.6363, 0.2854, 0.8528, 0.8206, 0.9303, 0.0872,\n",
       "           0.5760, 0.6801, 0.0081, 0.9680],\n",
       "          [0.8121, 0.0985, 0.0707, 0.5204, 0.9010, 0.6452, 0.5703, 0.4676,\n",
       "           0.0032, 0.8009, 0.8189, 0.1484, 0.4079, 0.9861, 0.3084, 0.1567,\n",
       "           0.7860, 0.7310, 0.9307, 0.2847, 0.6216, 0.6204, 0.9068, 0.7802,\n",
       "           0.6175, 0.4297, 0.4108, 0.2302],\n",
       "          [0.7103, 0.9261, 0.2458, 0.1583, 0.8723, 0.5672, 0.2643, 0.8238,\n",
       "           0.0926, 0.2543, 0.3393, 0.4841, 0.6066, 0.7391, 0.3254, 0.4515,\n",
       "           0.2392, 0.1712, 0.6091, 0.8687, 0.9315, 0.1098, 0.7366, 0.3457,\n",
       "           0.4751, 0.4791, 0.9319, 0.9190],\n",
       "          [0.0951, 0.6084, 0.7924, 0.6341, 0.4884, 0.2640, 0.1472, 0.0079,\n",
       "           0.4903, 0.3071, 0.6180, 0.2886, 0.9153, 0.1472, 0.9437, 0.3018,\n",
       "           0.5773, 0.3166, 0.7107, 0.8946, 0.9675, 0.1537, 0.8432, 0.8307,\n",
       "           0.0897, 0.7021, 0.5967, 0.7744],\n",
       "          [0.9381, 0.5114, 0.3149, 0.2746, 0.5646, 0.4266, 0.1419, 0.5139,\n",
       "           0.7863, 0.5166, 0.8143, 0.3111, 0.8921, 0.6191, 0.3320, 0.7411,\n",
       "           0.7459, 0.2856, 0.4091, 0.7581, 0.0594, 0.6905, 0.6096, 0.1592,\n",
       "           0.4384, 0.6463, 0.8478, 0.8656],\n",
       "          [0.1775, 0.1749, 0.7364, 0.9933, 0.9270, 0.6969, 0.9741, 0.2705,\n",
       "           0.4858, 0.0922, 0.1932, 0.1619, 0.0464, 0.6411, 0.6292, 0.7013,\n",
       "           0.8314, 0.1017, 0.3557, 0.8934, 0.0575, 0.8514, 0.6540, 0.0941,\n",
       "           0.6079, 0.5161, 0.5966, 0.3565],\n",
       "          [0.7263, 0.8889, 0.8485, 0.4520, 0.0401, 0.9895, 0.6391, 0.9438,\n",
       "           0.6801, 0.5082, 0.7691, 0.7798, 0.4676, 0.5765, 0.4797, 0.8426,\n",
       "           0.7276, 0.4166, 0.9659, 0.9791, 0.9062, 0.5896, 0.5306, 0.2389,\n",
       "           0.8645, 0.1407, 0.0690, 0.6509],\n",
       "          [0.0323, 0.6594, 0.2592, 0.4937, 0.3074, 0.9043, 0.1284, 0.5919,\n",
       "           0.5071, 0.0242, 0.8866, 0.5989, 0.0988, 0.0038, 0.7211, 0.9104,\n",
       "           0.3861, 0.3523, 0.0736, 0.8376, 0.3116, 0.2702, 0.6902, 0.9373,\n",
       "           0.7314, 0.6442, 0.9425, 0.5213],\n",
       "          [0.5773, 0.4635, 0.1867, 0.5919, 0.2403, 0.7894, 0.1551, 0.0913,\n",
       "           0.4034, 0.8714, 0.1201, 0.3407, 0.4617, 0.2813, 0.7362, 0.9368,\n",
       "           0.7706, 0.3946, 0.1074, 0.0872, 0.3803, 0.3425, 0.1208, 0.6237,\n",
       "           0.3105, 0.6450, 0.2345, 0.4549],\n",
       "          [0.3495, 0.8071, 0.0437, 0.3028, 0.6068, 0.3591, 0.4914, 0.8379,\n",
       "           0.5716, 0.5616, 0.6461, 0.2310, 0.3003, 0.7395, 0.5725, 0.8262,\n",
       "           0.4362, 0.9697, 0.7986, 0.3599, 0.2445, 0.6010, 0.0829, 0.2710,\n",
       "           0.6532, 0.5436, 0.7263, 0.2909],\n",
       "          [0.9208, 0.2250, 0.2438, 0.8345, 0.4035, 0.6430, 0.4112, 0.1464,\n",
       "           0.4800, 0.7268, 0.8370, 0.8814, 0.4824, 0.8621, 0.6410, 0.5185,\n",
       "           0.5094, 0.4523, 0.6428, 0.4742, 0.8216, 0.4238, 0.2223, 0.6453,\n",
       "           0.2198, 0.8105, 0.9084, 0.5803],\n",
       "          [0.3997, 0.4774, 0.7342, 0.1180, 0.3662, 0.1954, 0.0478, 0.1422,\n",
       "           0.1787, 0.8807, 0.8056, 0.1606, 0.1054, 0.9478, 0.6187, 0.7302,\n",
       "           0.5781, 0.3132, 0.2299, 0.7690, 0.0061, 0.0839, 0.6510, 0.3689,\n",
       "           0.5956, 0.7667, 0.2127, 0.2185],\n",
       "          [0.1925, 0.0625, 0.4662, 0.9246, 0.4694, 0.7742, 0.2513, 0.5496,\n",
       "           0.1246, 0.4669, 0.6097, 0.2861, 0.9591, 0.6412, 0.7501, 0.9976,\n",
       "           0.7120, 0.4607, 0.7388, 0.9927, 0.0186, 0.4057, 0.7428, 0.3788,\n",
       "           0.0932, 0.2097, 0.2401, 0.7073],\n",
       "          [0.8183, 0.4431, 0.0909, 0.5710, 0.6398, 0.3114, 0.6724, 0.2958,\n",
       "           0.6683, 0.8577, 0.7494, 0.4527, 0.9802, 0.4560, 0.0540, 0.8594,\n",
       "           0.9649, 0.7282, 0.9382, 0.7701, 0.7041, 0.7895, 0.1159, 0.4940,\n",
       "           0.2864, 0.6375, 0.0578, 0.5296],\n",
       "          [0.6956, 0.3142, 0.2983, 0.1757, 0.6377, 0.0803, 0.3974, 0.5278,\n",
       "           0.6427, 0.0708, 0.6009, 0.3038, 0.4418, 0.1351, 0.1073, 0.5682,\n",
       "           0.5849, 0.9297, 0.9705, 0.8653, 0.6937, 0.8325, 0.7135, 0.0342,\n",
       "           0.8639, 0.5607, 0.3753, 0.3513],\n",
       "          [0.8988, 0.8489, 0.4536, 0.3131, 0.2312, 0.7882, 0.1968, 0.1685,\n",
       "           0.1999, 0.6452, 0.8833, 0.5999, 0.6864, 0.0962, 0.1367, 0.2072,\n",
       "           0.1801, 0.2768, 0.1969, 0.3364, 0.1905, 0.6489, 0.5129, 0.5254,\n",
       "           0.7120, 0.0498, 0.3042, 0.4830],\n",
       "          [0.0328, 0.7657, 0.1246, 0.8380, 0.9948, 0.6030, 0.2566, 0.8529,\n",
       "           0.1722, 0.5237, 0.8135, 0.9687, 0.5366, 0.4621, 0.4566, 0.0152,\n",
       "           0.5888, 0.1031, 0.5449, 0.3812, 0.8179, 0.2998, 0.8554, 0.3809,\n",
       "           0.4033, 0.0448, 0.9345, 0.5432],\n",
       "          [0.0494, 0.5281, 0.7048, 0.3943, 0.9080, 0.7445, 0.4359, 0.9999,\n",
       "           0.8526, 0.4387, 0.4568, 0.6535, 0.3258, 0.8078, 0.0190, 0.2321,\n",
       "           0.7292, 0.0201, 0.3343, 0.2341, 0.7709, 0.5251, 0.1449, 0.9029,\n",
       "           0.2720, 0.4448, 0.6687, 0.1666],\n",
       "          [0.4539, 0.3316, 0.3814, 0.3186, 0.8200, 0.2543, 0.1626, 0.7160,\n",
       "           0.6620, 0.5052, 0.5412, 0.9908, 0.3327, 0.0538, 0.0075, 0.6296,\n",
       "           0.6949, 0.5071, 0.0845, 0.1094, 0.1593, 0.8219, 0.5980, 0.2215,\n",
       "           0.0271, 0.7873, 0.5054, 0.9970],\n",
       "          [0.0903, 0.0945, 0.5863, 0.8351, 0.8303, 0.9971, 0.8183, 0.7233,\n",
       "           0.1926, 0.9927, 0.2787, 0.8215, 0.7057, 0.2036, 0.4553, 0.4584,\n",
       "           0.8775, 0.8826, 0.6072, 0.2159, 0.6424, 0.9097, 0.2350, 0.9007,\n",
       "           0.6130, 0.7766, 0.6715, 0.8157],\n",
       "          [0.0746, 0.7065, 0.0664, 0.4659, 0.8910, 0.0900, 0.1197, 0.2809,\n",
       "           0.5188, 0.4309, 0.1075, 0.5651, 0.3744, 0.2665, 0.5055, 0.6698,\n",
       "           0.5802, 0.1685, 0.8389, 0.5943, 0.2953, 0.9328, 0.6008, 0.7600,\n",
       "           0.8535, 0.4911, 0.9121, 0.4978],\n",
       "          [0.9000, 0.5606, 0.7301, 0.7518, 0.2229, 0.9369, 0.5152, 0.6838,\n",
       "           0.1311, 0.3134, 0.8259, 0.1844, 0.5693, 0.9391, 0.0251, 0.4945,\n",
       "           0.5812, 0.8277, 0.3320, 0.0113, 0.1905, 0.6501, 0.1318, 0.0720,\n",
       "           0.4874, 0.6312, 0.1865, 0.3058],\n",
       "          [0.7735, 0.1619, 0.0887, 0.3489, 0.9017, 0.3534, 0.1611, 0.1453,\n",
       "           0.3825, 0.8551, 0.6879, 0.3331, 0.0662, 0.1966, 0.6056, 0.9204,\n",
       "           0.7575, 0.4361, 0.7652, 0.5360, 0.5687, 0.7331, 0.3769, 0.6457,\n",
       "           0.5446, 0.6525, 0.3930, 0.8232]]]])"
      ]
     },
     "execution_count": 25,
     "metadata": {},
     "output_type": "execute_result"
    }
   ],
   "source": [
    "dummy_x = torch.rand([1, 1, 28, 28])\n",
    "dummy_x"
   ]
  },
  {
   "cell_type": "code",
   "execution_count": 26,
   "metadata": {},
   "outputs": [
    {
     "data": {
      "text/plain": [
       "tensor([[ 0.4610, -0.3953, -0.0013,  0.2377, -0.0399, -0.3302,  0.1992,  0.0818,\n",
       "         -0.1059, -0.3474]], grad_fn=<AddmmBackward0>)"
      ]
     },
     "execution_count": 26,
     "metadata": {},
     "output_type": "execute_result"
    }
   ],
   "source": [
    "class_0(dummy_x)"
   ]
  },
  {
   "cell_type": "markdown",
   "metadata": {},
   "source": [
    "## Creating a training loop and training a model on batches of data\n",
    "\n",
    "1. loop through epochs.\n",
    "2. loop through training batches, perform training steps per batch, calculate train loss *per batch*.\n",
    "3. Loop through testing batches, perform testing steps, calculate the test loss *per batch*\n",
    "4. print what's happening "
   ]
  },
  {
   "cell_type": "code",
   "execution_count": 27,
   "metadata": {},
   "outputs": [],
   "source": [
    "from helper_functions import accuracy_fn"
   ]
  },
  {
   "cell_type": "code",
   "execution_count": 28,
   "metadata": {},
   "outputs": [
    {
     "name": "stderr",
     "output_type": "stream",
     "text": [
      "c:\\Users\\omarm\\AppData\\Local\\Programs\\Python\\Python311\\Lib\\site-packages\\tqdm\\auto.py:21: TqdmWarning: IProgress not found. Please update jupyter and ipywidgets. See https://ipywidgets.readthedocs.io/en/stable/user_install.html\n",
      "  from .autonotebook import tqdm as notebook_tqdm\n",
      "  0%|          | 0/3 [00:00<?, ?it/s]"
     ]
    },
    {
     "name": "stdout",
     "output_type": "stream",
     "text": [
      "Epoch : 0\n",
      "-----\n",
      "Looked at batch 0/60000 Samples.\n"
     ]
    },
    {
     "name": "stdout",
     "output_type": "stream",
     "text": [
      "Looked at batch 12800/60000 Samples.\n",
      "Looked at batch 25600/60000 Samples.\n",
      "Looked at batch 38400/60000 Samples.\n",
      "Looked at batch 51200/60000 Samples.\n"
     ]
    },
    {
     "name": "stderr",
     "output_type": "stream",
     "text": [
      " 33%|███▎      | 1/3 [00:11<00:22, 11.39s/it]"
     ]
    },
    {
     "name": "stdout",
     "output_type": "stream",
     "text": [
      "\n",
      " Train loss : 0.9684, Test loss : 0.6665, Test accuracy : 75.97\n",
      "Epoch : 1\n",
      "-----\n",
      "Looked at batch 0/60000 Samples.\n",
      "Looked at batch 12800/60000 Samples.\n",
      "Looked at batch 25600/60000 Samples.\n",
      "Looked at batch 38400/60000 Samples.\n",
      "Looked at batch 51200/60000 Samples.\n"
     ]
    },
    {
     "name": "stderr",
     "output_type": "stream",
     "text": [
      " 67%|██████▋   | 2/3 [00:21<00:10, 10.80s/it]"
     ]
    },
    {
     "name": "stdout",
     "output_type": "stream",
     "text": [
      "\n",
      " Train loss : 0.5859, Test loss : 0.5642, Test accuracy : 79.97\n",
      "Epoch : 2\n",
      "-----\n",
      "Looked at batch 0/60000 Samples.\n",
      "Looked at batch 12800/60000 Samples.\n",
      "Looked at batch 25600/60000 Samples.\n",
      "Looked at batch 38400/60000 Samples.\n",
      "Looked at batch 51200/60000 Samples.\n"
     ]
    },
    {
     "name": "stderr",
     "output_type": "stream",
     "text": [
      "100%|██████████| 3/3 [00:32<00:00, 10.85s/it]"
     ]
    },
    {
     "name": "stdout",
     "output_type": "stream",
     "text": [
      "\n",
      " Train loss : 0.5213, Test loss : 0.5302, Test accuracy : 81.16\n"
     ]
    },
    {
     "name": "stderr",
     "output_type": "stream",
     "text": [
      "\n"
     ]
    }
   ],
   "source": [
    "# Import tqdm for progress bar \n",
    "from tqdm.auto import tqdm\n",
    "\n",
    "# Set the seed \n",
    "torch.manual_seed(42)\n",
    "\n",
    "# set the number of epochs keeping it small for faster training\n",
    "epochs = 3\n",
    "\n",
    "# Creat training and testing loop \n",
    "for epoch in tqdm(range(epochs)):\n",
    "    print(f\"Epoch : {epoch}\\n-----\")\n",
    "    # Training \n",
    "    train_loss = 0\n",
    "    # Add a loop to loop through the training batches\n",
    "    for batch, (X, y) in enumerate(train_data_loader):\n",
    "        # Model train\n",
    "        class_0.train()\n",
    "        # Do the forward Path\n",
    "        y_preds = class_0(X)\n",
    "        #calculate the loss\n",
    "        loss = loss_fnc(y_preds, y)\n",
    "        train_loss += loss\n",
    "        # optimzer zero grad\n",
    "        optimzer.zero_grad()\n",
    "        # loss backward\n",
    "        loss.backward()\n",
    "        # optimzer step\n",
    "        optimzer.step()\n",
    "    # Print out what's happening \n",
    "        if batch % 400 == 0 :\n",
    "            print(f\"Looked at batch {batch * len(X)}/{len(train_data_loader.dataset)} Samples.\")\n",
    "    \n",
    "    # Dividing total train loss by length of train dataloader\n",
    "    train_loss /= len(train_data_loader)\n",
    "    ### Testing \n",
    "    test_loss, test_acc = 0, 0\n",
    "    # model.eval()\n",
    "    class_0.eval()\n",
    "    with torch.inference_mode():\n",
    "        for X_test, y_test in test_data_loader:\n",
    "            # 1. do the forward path\n",
    "            predictions = class_0(X_test)\n",
    "            # claculate the loss\n",
    "            test_loss += loss_fnc(predictions, y_test)\n",
    "            #calculate the test accuracy\n",
    "            test_acc += accuracy_fn(y_true= y_test,\n",
    "                                    y_pred = predictions.argmax(dim = 1))\n",
    "        #calculate the average test loss \"loss per epoch\"\n",
    "        test_loss /= len(test_data_loader)  \n",
    "        #calculate the average test accuracy \"accuracy per epoch\"\n",
    "        test_acc /= len(test_data_loader)\n",
    "    # Print out what's happening \n",
    "    print(f\"\\n Train loss : {train_loss:.4f}, Test loss : {test_loss:.4f}, Test accuracy : {test_acc:.2f}\") "
   ]
  },
  {
   "cell_type": "code",
   "execution_count": 29,
   "metadata": {},
   "outputs": [
    {
     "data": {
      "image/png": "[encoded data removed]",
      "text/plain": [
       "<Figure size 900x900 with 16 Axes>"
      ]
     },
     "metadata": {},
     "output_type": "display_data"
    }
   ],
   "source": [
    "#plotting random samples of our data \n",
    "torch.manual_seed(1)\n",
    "fig = plt.figure(figsize=(9, 9))\n",
    "rows, colms = 4, 4\n",
    "for i in range(1, rows*colms + 1):\n",
    "    random_idx = torch.randint(0, len(test_data), size = [1]).item()\n",
    "    img, label = test_data[random_idx]\n",
    "    pred_label = class_0(img).argmax(dim = 1)\n",
    "    fig.add_subplot(rows, colms, i)\n",
    "    plt.imshow(img.squeeze(), cmap = 'gray')\n",
    "    plt.title(f\"{class_names[label]}/{class_names[pred_label]}\")\n",
    "    plt.axis('off')"
   ]
  },
  {
   "cell_type": "code",
   "execution_count": 30,
   "metadata": {},
   "outputs": [],
   "source": [
    "# Functionalize Our evaluation method\n",
    "\n",
    "def eval_model(model : torch.nn.Module,\n",
    "               data_loader : DataLoader,\n",
    "               loss_fnc : torch.nn.Module,\n",
    "               accuracy_fn\n",
    "               ):\n",
    "    \"\"\" Returns a dictionary containing the results of model predicitons on data_loader \"\"\"\n",
    "    loss, accuracy = 0, 0\n",
    "    model.eval()\n",
    "    with torch.inference_mode():\n",
    "        for X, y in tqdm(data_loader):\n",
    "            #Make predicitons\n",
    "            y_preds = model(X)\n",
    "\n",
    "            #Accumelate the loss and accuracy values per batch\n",
    "            loss += loss_fnc(y_preds, y)\n",
    "            accuracy += accuracy_fn(y, y_preds.argmax(dim = 1))\n",
    "        # Scaling the loss and accuracy to find loss and accuracy per epoch\n",
    "        loss /= len(data_loader)\n",
    "        accuracy /= len(data_loader)\n",
    "    return {\"model_name\" : model.__class__.__name__,\n",
    "            \"model_loss\" : loss.item(),\n",
    "            \"model_accuracy\" : accuracy}"
   ]
  },
  {
   "cell_type": "code",
   "execution_count": 31,
   "metadata": {},
   "outputs": [
    {
     "name": "stderr",
     "output_type": "stream",
     "text": [
      "100%|██████████| 313/313 [00:01<00:00, 217.29it/s]\n"
     ]
    },
    {
     "data": {
      "text/plain": [
       "{'model_name': 'FashonMNISTModelv1',\n",
       " 'model_loss': 0.5302413105964661,\n",
       " 'model_accuracy': 81.16014376996804}"
      ]
     },
     "execution_count": 31,
     "metadata": {},
     "output_type": "execute_result"
    }
   ],
   "source": [
    "model_0_results = eval_model(model = class_0,\n",
    "                             data_loader = test_data_loader,\n",
    "                             loss_fnc = loss_fnc,\n",
    "                             accuracy_fn= accuracy_fn,\n",
    "                             )\n",
    "model_0_results"
   ]
  },
  {
   "cell_type": "markdown",
   "metadata": {},
   "source": [
    "## Improving our Model using Convolution Neural Networks"
   ]
  },
  {
   "cell_type": "code",
   "execution_count": 32,
   "metadata": {},
   "outputs": [
    {
     "data": {
      "text/plain": [
       "'cuda'"
      ]
     },
     "execution_count": 32,
     "metadata": {},
     "output_type": "execute_result"
    }
   ],
   "source": [
    "# and lets train our model on the GPU instead of the CPU\n",
    "\n",
    "device = \"cuda\" if torch.cuda.is_available() else \"cpu\"\n",
    "\n",
    "device"
   ]
  },
  {
   "cell_type": "code",
   "execution_count": 127,
   "metadata": {},
   "outputs": [],
   "source": [
    "class FashionMNISTv2(nn.Module):\n",
    "    def __init__(self,\n",
    "                Input_shape:int,\n",
    "                hidden_uints:int,\n",
    "                output_shape: int,\n",
    "                activation = nn.ReLU()):\n",
    "        super().__init__()\n",
    "        self.layer_stack = nn.Sequential(\n",
    "            nn.Flatten(),\n",
    "            nn.Linear(in_features = Input_shape,\n",
    "                      out_features = hidden_uints),\n",
    "            activation,\n",
    "            nn.Linear(in_features = hidden_uints,\n",
    "                      out_features = output_shape),\n",
    "            activation,\n",
    "        )\n",
    "        \n",
    "    def forward(self, x : torch.tensor) -> torch.tensor:\n",
    "        return self.layer_stack(x)\n",
    "    "
   ]
  },
  {
   "cell_type": "code",
   "execution_count": 115,
   "metadata": {},
   "outputs": [],
   "source": [
    "INPUT_SHAPE = dummy_x.shape[2] * dummy_x.shape[3] # dummy_x is a sample img with the same dimension of the actual images\n",
    "OUTPUT_SHAPE = len(class_names)\n",
    "HIDDEN_UNITS = 10"
   ]
  },
  {
   "cell_type": "code",
   "execution_count": 128,
   "metadata": {},
   "outputs": [],
   "source": [
    "# Instaintiate and setting a manual seed\n",
    "torch.manual_seed(42)\n",
    "\n",
    "model_1 = FashionMNISTv2(Input_shape= INPUT_SHAPE,\n",
    "                         output_shape= OUTPUT_SHAPE,\n",
    "                         hidden_uints= HIDDEN_UNITS).to(device=device)"
   ]
  },
  {
   "cell_type": "code",
   "execution_count": 129,
   "metadata": {},
   "outputs": [
    {
     "data": {
      "text/plain": [
       "(FashionMNISTv2(\n",
       "   (layer_stack): Sequential(\n",
       "     (0): Flatten(start_dim=1, end_dim=-1)\n",
       "     (1): Linear(in_features=784, out_features=10, bias=True)\n",
       "     (2): ReLU()\n",
       "     (3): Linear(in_features=10, out_features=10, bias=True)\n",
       "     (4): ReLU()\n",
       "   )\n",
       " ),\n",
       " device(type='cuda', index=0))"
      ]
     },
     "execution_count": 129,
     "metadata": {},
     "output_type": "execute_result"
    }
   ],
   "source": [
    "model_1, next(model_1.parameters()).device"
   ]
  },
  {
   "cell_type": "code",
   "execution_count": 130,
   "metadata": {},
   "outputs": [],
   "source": [
    "# Creating loss function and optimzer for our new model and they will be the same as the previous model\n",
    "loss_fnc = nn.CrossEntropyLoss()\n",
    "\n",
    "optimzer = torch.optim.SGD(params = model_1.parameters(),\n",
    "                            lr = 0.1)"
   ]
  },
  {
   "cell_type": "markdown",
   "metadata": {},
   "source": [
    "### Functionizing training and testing loops\n",
    "let's create a function for:\n",
    "1. training loop and call it `train_step()`\n",
    "2. testing loop and call it `test_step()`"
   ]
  },
  {
   "cell_type": "code",
   "execution_count": 38,
   "metadata": {},
   "outputs": [],
   "source": [
    "def train_step(model:nn.Module,\n",
    "               data_loader : DataLoader,\n",
    "               loss_fnc : torch.nn.Module,\n",
    "               optimzer : torch.optim.Optimizer,\n",
    "               accuracy_fn,\n",
    "               target_device :torch.device = device):\n",
    "    \"\"\" Perform a training step with model trying to learn on data_loader\"\"\"\n",
    "    train_loss, train_acc = 0, 0\n",
    "    # Model train\n",
    "    model.train()\n",
    "    # Add a loop to loop through the training batches\n",
    "    for X, y in data_loader:\n",
    "        # Sending our data into the used device \"GPU or CPU\"\n",
    "        X, y = X.to(target_device), y.to(target_device)\n",
    "        # Do the forward Path\n",
    "        y_pred = model(X)\n",
    "\n",
    "        #calculate the loss\n",
    "        loss = loss_fnc(y_pred, y)\n",
    "        train_loss += loss\n",
    "\n",
    "        #Calculating the training accuracy\n",
    "        train_acc += accuracy_fn(y, y_pred.argmax(dim = 1))\n",
    "\n",
    "        # optimzer zero grad\n",
    "        optimzer.zero_grad()\n",
    "\n",
    "        # loss backward\n",
    "        loss.backward()\n",
    "\n",
    "        # optimzer step\n",
    "        optimzer.step()\n",
    "    \n",
    "    # Dividing total train loss and train accuracy by length of train dataloader to get training loss and training accuracy per batch\n",
    "    train_loss /= len(data_loader)\n",
    "    train_acc /= len(data_loader)\n",
    "    # Print out what's happening \n",
    "    print(f\"Train Loss : {train_loss:.2f} | Train accuracy : {train_acc:.2f}%\")"
   ]
  },
  {
   "cell_type": "code",
   "execution_count": 39,
   "metadata": {},
   "outputs": [],
   "source": [
    "def test_step(\n",
    "             model : torch.nn.Module,\n",
    "             data_loader : DataLoader,\n",
    "             loss_fnc :torch.nn.Module,\n",
    "             accuracy_fn,\n",
    "             target_device : torch.device = device):\n",
    "    \"\"\" Performs a testing loop step on model going over data_loader. \"\"\"\n",
    "    test_loss, test_acc = 0, 0\n",
    "    # Put our model in evaluation mode \n",
    "    model.eval()\n",
    "    # Turn on inference mode\n",
    "    with torch.inference_mode():\n",
    "        for X, y in tqdm(data_loader):\n",
    "\n",
    "            # Send the data to the target device\n",
    "            X, y = X.to(target_device), y.to(target_device)\n",
    "\n",
    "            # 1. Do the forward Path\n",
    "            test_pred = model(X)\n",
    "\n",
    "            # 2. Calculate the loss and test accuracy\n",
    "            test_loss += loss_fnc(test_pred, y)\n",
    "            test_acc += accuracy_fn(y, test_pred.argmax(dim = 1))\n",
    "        # 3. Calculate the average loss and accuracy through the batch\n",
    "        test_loss /= len(data_loader)\n",
    "        test_acc /= len(data_loader)\n",
    "        # 4. Printing out what's happening\n",
    "        print(f\"Test Loss : {test_loss:.4f} | Test accuracy : {test_acc:.2f}%\\n\")"
   ]
  },
  {
   "cell_type": "code",
   "execution_count": 40,
   "metadata": {},
   "outputs": [],
   "source": [
    "def train(model : torch.nn.Module,\n",
    "          train_data_loader : DataLoader,\n",
    "          test_data_loader : DataLoader,\n",
    "          loss_fnc : torch.nn.Module,\n",
    "          optimzer :torch.optim.Optimizer,\n",
    "          accuracy_fn,\n",
    "          epochs : int,\n",
    "          target_device : torch.device = device):\n",
    "    \n",
    "\n",
    "    \"\"\" Do the train step Function and the test step function in a range of epochs\"\"\"\n",
    "    for epoch in range(epochs):\n",
    "      # doing the training step\n",
    "      train_step(model, train_data_loader,loss_fnc, optimzer, accuracy_fn, target_device)\n",
    "      # doint the testing step\n",
    "      test_step(model, test_data_loader, loss_fnc, accuracy_fn, target_device)"
   ]
  },
  {
   "cell_type": "code",
   "execution_count": 131,
   "metadata": {},
   "outputs": [
    {
     "name": "stdout",
     "output_type": "stream",
     "text": [
      "Train Loss : 1.06 | Train accuracy : 62.19%\n"
     ]
    },
    {
     "name": "stderr",
     "output_type": "stream",
     "text": [
      "100%|██████████| 313/313 [00:01<00:00, 215.98it/s]\n"
     ]
    },
    {
     "name": "stdout",
     "output_type": "stream",
     "text": [
      "Test Loss : 0.9951 | Test accuracy : 64.13%\n",
      "\n",
      "Train Loss : 0.91 | Train accuracy : 66.32%\n"
     ]
    },
    {
     "name": "stderr",
     "output_type": "stream",
     "text": [
      "100%|██████████| 313/313 [00:01<00:00, 209.79it/s]\n"
     ]
    },
    {
     "name": "stdout",
     "output_type": "stream",
     "text": [
      "Test Loss : 0.9574 | Test accuracy : 65.47%\n",
      "\n",
      "Train Loss : 0.88 | Train accuracy : 67.25%\n"
     ]
    },
    {
     "name": "stderr",
     "output_type": "stream",
     "text": [
      "100%|██████████| 313/313 [00:01<00:00, 217.03it/s]\n"
     ]
    },
    {
     "name": "stdout",
     "output_type": "stream",
     "text": [
      "Test Loss : 0.8910 | Test accuracy : 67.05%\n",
      "\n",
      "Train Loss : 0.86 | Train accuracy : 67.78%\n"
     ]
    },
    {
     "name": "stderr",
     "output_type": "stream",
     "text": [
      "100%|██████████| 313/313 [00:01<00:00, 197.06it/s]\n"
     ]
    },
    {
     "name": "stdout",
     "output_type": "stream",
     "text": [
      "Test Loss : 0.8766 | Test accuracy : 66.91%\n",
      "\n",
      "Train Loss : 0.85 | Train accuracy : 67.99%\n"
     ]
    },
    {
     "name": "stderr",
     "output_type": "stream",
     "text": [
      "100%|██████████| 313/313 [00:01<00:00, 224.13it/s]\n"
     ]
    },
    {
     "name": "stdout",
     "output_type": "stream",
     "text": [
      "Test Loss : 0.8717 | Test accuracy : 66.87%\n",
      "\n",
      "Train Loss : 0.84 | Train accuracy : 68.35%\n"
     ]
    },
    {
     "name": "stderr",
     "output_type": "stream",
     "text": [
      "100%|██████████| 313/313 [00:01<00:00, 207.00it/s]\n"
     ]
    },
    {
     "name": "stdout",
     "output_type": "stream",
     "text": [
      "Test Loss : 0.8902 | Test accuracy : 66.55%\n",
      "\n",
      "Train Loss : 0.83 | Train accuracy : 68.61%\n"
     ]
    },
    {
     "name": "stderr",
     "output_type": "stream",
     "text": [
      "100%|██████████| 313/313 [00:01<00:00, 235.81it/s]\n"
     ]
    },
    {
     "name": "stdout",
     "output_type": "stream",
     "text": [
      "Test Loss : 0.8576 | Test accuracy : 67.77%\n",
      "\n",
      "Train Loss : 0.76 | Train accuracy : 71.38%\n"
     ]
    },
    {
     "name": "stderr",
     "output_type": "stream",
     "text": [
      "100%|██████████| 313/313 [00:01<00:00, 255.52it/s]\n"
     ]
    },
    {
     "name": "stdout",
     "output_type": "stream",
     "text": [
      "Test Loss : 0.6920 | Test accuracy : 75.15%\n",
      "\n",
      "Train Loss : 0.63 | Train accuracy : 76.58%\n"
     ]
    },
    {
     "name": "stderr",
     "output_type": "stream",
     "text": [
      "100%|██████████| 313/313 [00:01<00:00, 222.63it/s]\n"
     ]
    },
    {
     "name": "stdout",
     "output_type": "stream",
     "text": [
      "Test Loss : 0.6840 | Test accuracy : 74.47%\n",
      "\n",
      "Train Loss : 0.62 | Train accuracy : 76.95%\n"
     ]
    },
    {
     "name": "stderr",
     "output_type": "stream",
     "text": [
      "100%|██████████| 313/313 [00:01<00:00, 237.81it/s]"
     ]
    },
    {
     "name": "stdout",
     "output_type": "stream",
     "text": [
      "Test Loss : 0.6596 | Test accuracy : 75.96%\n",
      "\n"
     ]
    },
    {
     "name": "stderr",
     "output_type": "stream",
     "text": [
      "\n"
     ]
    }
   ],
   "source": [
    "train(model_1, train_data_loader, test_data_loader, loss_fnc, optimzer, accuracy_fn, epochs= 10)"
   ]
  },
  {
   "cell_type": "markdown",
   "metadata": {},
   "source": [
    "# Putting every thing together in one class"
   ]
  },
  {
   "cell_type": "code",
   "execution_count": 120,
   "metadata": {},
   "outputs": [],
   "source": [
    "class MyFirstCompeleteModel(nn.Module):\n",
    "    def __init__(self,\n",
    "                input_shape :int,\n",
    "                output_shape :int,\n",
    "                hidden_units : int,\n",
    "                activation = nn.ReLU()):\n",
    "        super().__init__()\n",
    "        self.layer_stack = nn.Sequential(\n",
    "            nn.Flatten(),\n",
    "            nn.Linear(in_features = input_shape,\n",
    "                      out_features = hidden_units),\n",
    "            activation,\n",
    "            nn.Linear(in_features = hidden_units,\n",
    "                      out_features = output_shape),\n",
    "            activation,\n",
    "        )\n",
    "    \n",
    "    def train_step(self,\n",
    "               data_loader : DataLoader,\n",
    "               loss_fnc : torch.nn.Module,\n",
    "               optimzer : torch.optim.Optimizer,\n",
    "               accuracy_fn,\n",
    "               target_device :torch.device = device):\n",
    "        \"\"\" Perform a training step with model trying to learn on data_loader\"\"\"\n",
    "        train_loss, train_acc = 0, 0\n",
    "        # Model train\n",
    "        self.train()\n",
    "        # Add a loop to loop through the training batches\n",
    "        for X, y in data_loader:\n",
    "            # Sending our data into the used device \"GPU or CPU\"\n",
    "            X, y = X.to(target_device), y.to(target_device)\n",
    "            # Do the forward Path\n",
    "            y_pred = self(X)\n",
    "\n",
    "            #calculate the loss\n",
    "            loss = loss_fnc(y_pred, y)\n",
    "            train_loss += loss\n",
    "\n",
    "            #Calculating the training accuracy\n",
    "            train_acc += accuracy_fn(y, y_pred.argmax(dim = 1))\n",
    "\n",
    "            # optimzer zero grad\n",
    "            optimzer.zero_grad()\n",
    "\n",
    "            # loss backward\n",
    "            loss.backward()\n",
    "\n",
    "            # optimzer step\n",
    "            optimzer.step()\n",
    "        \n",
    "        # Dividing total train loss and train accuracy by length of train dataloader to get training loss and training accuracy per batch\n",
    "        train_loss /= len(data_loader)\n",
    "        train_acc /= len(data_loader)\n",
    "        # Print out what's happening \n",
    "        print(f\"Train Loss : {train_loss:.2f} | Train accuracy : {train_acc:.2f}%\")\n",
    "\n",
    "    def test_step(\n",
    "             self,\n",
    "             data_loader : DataLoader,\n",
    "             loss_fnc :torch.nn.Module,\n",
    "             accuracy_fn,\n",
    "             target_device : torch.device = device):\n",
    "        \"\"\" Performs a testing loop step on model going over data_loader. \"\"\"\n",
    "        test_loss, test_acc = 0, 0\n",
    "        # Put our model in evaluation mode \n",
    "        self.eval()\n",
    "        # Turn on inference mode\n",
    "        with torch.inference_mode():\n",
    "            for X, y in tqdm(data_loader):\n",
    "\n",
    "                # Send the data to the target device\n",
    "                X, y = X.to(target_device), y.to(target_device)\n",
    "\n",
    "                # 1. Do the forward Path\n",
    "                test_pred = self(X)\n",
    "\n",
    "                # 2. Calculate the loss and test accuracy\n",
    "                test_loss += loss_fnc(test_pred, y)\n",
    "                test_acc += accuracy_fn(y, test_pred.argmax(dim = 1))\n",
    "            # 3. Calculate the average loss and accuracy through the batch\n",
    "            test_loss /= len(data_loader)\n",
    "            test_acc /= len(data_loader)\n",
    "            # 4. Printing out what's happening\n",
    "            print(f\"Test Loss : {test_loss:.4f} | Test accuracy : {test_acc:.2f}%\\n\")\n",
    "\n",
    "    def train_model(self,\n",
    "          train_data_loader : DataLoader,\n",
    "          test_data_loader : DataLoader,\n",
    "          loss_fnc : torch.nn.Module,\n",
    "          optimzer :torch.optim.Optimizer,\n",
    "          accuracy_fn,\n",
    "          epochs : int,\n",
    "          target_device : torch.device = device):\n",
    "    \n",
    "        \"\"\" Do the train step Function and the test step function in a range of epochs\"\"\"\n",
    "        for epoch in range(epochs):\n",
    "        # doing the training step\n",
    "            self.train_step(train_data_loader,loss_fnc, optimzer, accuracy_fn, target_device)\n",
    "        # doint the testing step\n",
    "            self.test_step(test_data_loader, loss_fnc, accuracy_fn, target_device)\n",
    "\n",
    "    def eval_model(self,\n",
    "               data_loader : DataLoader,\n",
    "               loss_fnc : torch.nn.Module,\n",
    "               accuracy_fn,\n",
    "               target_device: torch.device = device):\n",
    "        \"\"\" Returns a dictionary containing the results of model predicitons on data_loader \"\"\"\n",
    "        loss, accuracy = 0, 0\n",
    "        self.eval()\n",
    "        with torch.inference_mode():\n",
    "            for X, y in tqdm(data_loader):\n",
    "                # Send the data to the target device\n",
    "                X, y = X.to(target_device), y.to(target_device)\n",
    "                #Make predicitons\n",
    "                y_preds = self(X)\n",
    "\n",
    "                #Accumelate the loss and accuracy values per batch\n",
    "                loss += loss_fnc(y_preds, y)\n",
    "                accuracy += accuracy_fn(y, y_preds.argmax(dim = 1))\n",
    "\n",
    "            # Scaling the loss and accuracy to find loss and accuracy per epoch\n",
    "            loss /= len(data_loader)\n",
    "            accuracy /= len(data_loader)\n",
    "        return {\"model_name\" : self.__class__.__name__,\n",
    "                \"model_loss\" : loss.item(),\n",
    "                \"model_accuracy\" : accuracy}\n",
    "    \n",
    "    def forward(self, x : torch.tensor) -> torch.tensor:\n",
    "        return self.layer_stack(x)"
   ]
  },
  {
   "cell_type": "code",
   "execution_count": 132,
   "metadata": {},
   "outputs": [
    {
     "data": {
      "text/plain": [
       "MyFirstCompeleteModel(\n",
       "  (layer_stack): Sequential(\n",
       "    (0): Flatten(start_dim=1, end_dim=-1)\n",
       "    (1): Linear(in_features=784, out_features=10, bias=True)\n",
       "    (2): ReLU()\n",
       "    (3): Linear(in_features=10, out_features=10, bias=True)\n",
       "    (4): ReLU()\n",
       "  )\n",
       ")"
      ]
     },
     "execution_count": 132,
     "metadata": {},
     "output_type": "execute_result"
    }
   ],
   "source": [
    "model_2 = MyFirstCompeleteModel(input_shape= INPUT_SHAPE,\n",
    "                                output_shape= OUTPUT_SHAPE,\n",
    "                                hidden_units=HIDDEN_UNITS).to(device)\n",
    "model_2"
   ]
  },
  {
   "cell_type": "code",
   "execution_count": 133,
   "metadata": {},
   "outputs": [],
   "source": [
    "# Creating loss function and optimzer for our new model and they will be the same as the previous model\n",
    "loss_fnc = nn.CrossEntropyLoss()\n",
    "\n",
    "optimzer = torch.optim.SGD(params = model_2.parameters(),\n",
    "                            lr = 0.1)"
   ]
  },
  {
   "cell_type": "code",
   "execution_count": 134,
   "metadata": {},
   "outputs": [
    {
     "name": "stdout",
     "output_type": "stream",
     "text": [
      "Train Loss : 0.99 | Train accuracy : 67.87%\n"
     ]
    },
    {
     "name": "stderr",
     "output_type": "stream",
     "text": [
      "100%|██████████| 313/313 [00:01<00:00, 196.58it/s]\n"
     ]
    },
    {
     "name": "stdout",
     "output_type": "stream",
     "text": [
      "Test Loss : 0.8036 | Test accuracy : 71.95%\n",
      "\n",
      "Train Loss : 0.73 | Train accuracy : 73.48%\n"
     ]
    },
    {
     "name": "stderr",
     "output_type": "stream",
     "text": [
      "100%|██████████| 313/313 [00:01<00:00, 221.30it/s]\n"
     ]
    },
    {
     "name": "stdout",
     "output_type": "stream",
     "text": [
      "Test Loss : 0.7179 | Test accuracy : 73.99%\n",
      "\n",
      "Train Loss : 0.70 | Train accuracy : 74.43%\n"
     ]
    },
    {
     "name": "stderr",
     "output_type": "stream",
     "text": [
      "100%|██████████| 313/313 [00:01<00:00, 213.65it/s]\n"
     ]
    },
    {
     "name": "stdout",
     "output_type": "stream",
     "text": [
      "Test Loss : 0.7399 | Test accuracy : 73.42%\n",
      "\n",
      "Train Loss : 0.68 | Train accuracy : 75.08%\n"
     ]
    },
    {
     "name": "stderr",
     "output_type": "stream",
     "text": [
      "100%|██████████| 313/313 [00:01<00:00, 241.75it/s]\n"
     ]
    },
    {
     "name": "stdout",
     "output_type": "stream",
     "text": [
      "Test Loss : 0.6912 | Test accuracy : 74.53%\n",
      "\n",
      "Train Loss : 0.67 | Train accuracy : 75.33%\n"
     ]
    },
    {
     "name": "stderr",
     "output_type": "stream",
     "text": [
      "100%|██████████| 313/313 [00:01<00:00, 233.96it/s]"
     ]
    },
    {
     "name": "stdout",
     "output_type": "stream",
     "text": [
      "Test Loss : 0.7118 | Test accuracy : 74.12%\n",
      "\n"
     ]
    },
    {
     "name": "stderr",
     "output_type": "stream",
     "text": [
      "\n"
     ]
    }
   ],
   "source": [
    "model_2.train_model(train_data_loader = train_data_loader,\n",
    "              test_data_loader = test_data_loader,\n",
    "              loss_fnc = loss_fnc,\n",
    "              optimzer = optimzer,\n",
    "              accuracy_fn = accuracy_fn,\n",
    "              epochs = 5)"
   ]
  },
  {
   "cell_type": "code",
   "execution_count": 136,
   "metadata": {},
   "outputs": [
    {
     "name": "stderr",
     "output_type": "stream",
     "text": [
      "100%|██████████| 313/313 [00:01<00:00, 198.94it/s]\n"
     ]
    },
    {
     "data": {
      "text/plain": [
       "{'model_name': 'MyFirstCompeleteModel',\n",
       " 'model_loss': 0.7117738127708435,\n",
       " 'model_accuracy': 74.12140575079871}"
      ]
     },
     "execution_count": 136,
     "metadata": {},
     "output_type": "execute_result"
    }
   ],
   "source": [
    "model_2.eval_model(test_data_loader, loss_fnc, accuracy_fn)"
   ]
  },
  {
   "cell_type": "markdown",
   "metadata": {},
   "source": [
    "# Saving and Loading our Model "
   ]
  },
  {
   "cell_type": "code",
   "execution_count": 137,
   "metadata": {},
   "outputs": [
    {
     "name": "stdout",
     "output_type": "stream",
     "text": [
      "saving model to : models\\03_Computer_vision_Pytorch.pth \n"
     ]
    }
   ],
   "source": [
    "from pathlib import Path\n",
    "# creating the model directory \n",
    "Model_path = Path(\"models\")\n",
    "Model_path.mkdir(parents=True, exist_ok= True)\n",
    "# create model save path \n",
    "MODEL_NAME = \"03_Computer_vision_Pytorch.pth\"\n",
    "MODEL_SAVE_PATH = Model_path / MODEL_NAME\n",
    "# saving model \n",
    "print(f\"saving model to : {MODEL_SAVE_PATH} \")\n",
    "torch.save(model_2.state_dict(), MODEL_SAVE_PATH)"
   ]
  },
  {
   "cell_type": "code",
   "execution_count": 140,
   "metadata": {},
   "outputs": [
    {
     "data": {
      "text/plain": [
       "<All keys matched successfully>"
      ]
     },
     "execution_count": 140,
     "metadata": {},
     "output_type": "execute_result"
    }
   ],
   "source": [
    "# Create new instance of model and load saved state dict (make sure to put it on the target device)\n",
    "my_loaded_model = MyFirstCompeleteModel(input_shape=INPUT_SHAPE, output_shape=OUTPUT_SHAPE, hidden_units=HIDDEN_UNITS)\n",
    "\n",
    "my_loaded_model.load_state_dict(torch.load(MODEL_SAVE_PATH))"
   ]
  },
  {
   "cell_type": "code",
   "execution_count": 143,
   "metadata": {},
   "outputs": [
    {
     "name": "stderr",
     "output_type": "stream",
     "text": [
      "100%|██████████| 313/313 [00:01<00:00, 197.99it/s]\n"
     ]
    },
    {
     "data": {
      "text/plain": [
       "{'model_name': 'MyFirstCompeleteModel',\n",
       " 'model_loss': 0.7117738127708435,\n",
       " 'model_accuracy': 74.12140575079871}"
      ]
     },
     "execution_count": 143,
     "metadata": {},
     "output_type": "execute_result"
    }
   ],
   "source": [
    "my_loaded_model.to(device)\n",
    "my_loaded_model.eval_model(test_data_loader, loss_fnc, accuracy_fn)"
   ]
  }
 ],
 "metadata": {
  "kernelspec": {
   "display_name": "Python 3",
   "language": "python",
   "name": "python3"
  },
  "language_info": {
   "codemirror_mode": {
    "name": "ipython",
    "version": 3
   },
   "file_extension": ".py",
   "mimetype": "text/x-python",
   "name": "python",
   "nbconvert_exporter": "python",
   "pygments_lexer": "ipython3",
   "version": "3.11.6"
  }
 },
 "nbformat": 4,
 "nbformat_minor": 2
}
